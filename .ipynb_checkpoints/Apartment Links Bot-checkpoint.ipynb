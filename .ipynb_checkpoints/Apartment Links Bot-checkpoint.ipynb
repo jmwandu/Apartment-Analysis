{
 "cells": [
  {
   "cell_type": "markdown",
   "metadata": {},
   "source": [
    "# Bot to Aquire apartment data in an area"
   ]
  },
  {
   "cell_type": "markdown",
   "metadata": {},
   "source": [
    "## Create driver"
   ]
  },
  {
   "cell_type": "code",
   "execution_count": 1,
   "metadata": {},
   "outputs": [],
   "source": [
    "from selenium import webdriver\n",
    "import os\n",
    "\n",
    "path = os.path.relpath(\"./drivers/chromedriver.exe\") \n",
    "driver = webdriver.Chrome(executable_path=path)\n",
    "driver.get('https://www.apartments.com/')"
   ]
  },
  {
   "cell_type": "code",
   "execution_count": 2,
   "metadata": {},
   "outputs": [],
   "source": [
    "import time\n",
    "\n",
    "area = \"Seattle, WA\"\n",
    "home_search_bar_xpath = '//*[@id=\"quickSearchLookup\"]'\n",
    "driver.find_element_by_xpath(home_search_bar_xpath).send_keys(area)\n",
    "time.sleep(3)"
   ]
  },
  {
   "cell_type": "code",
   "execution_count": 3,
   "metadata": {},
   "outputs": [],
   "source": [
    "home_search_button_xpath = '//*[@id=\"quickSearch\"]/div/div/a'\n",
    "driver.find_element_by_xpath(home_search_button_xpath).click()\n",
    "time.sleep(3)"
   ]
  },
  {
   "cell_type": "code",
   "execution_count": 4,
   "metadata": {},
   "outputs": [],
   "source": [
    "def getListingsOnPage(apartment_links, apartmentlist_li):\n",
    "    for i in range(len(apartmentlist_li)):\n",
    "        listing = apartmentlist_li[i]\n",
    "        title = listing.find_element_by_tag_name('a')\n",
    "        link = title.get_attribute('href')\n",
    "        apartment_links.append(link)"
   ]
  },
  {
   "cell_type": "code",
   "execution_count": 5,
   "metadata": {},
   "outputs": [
    {
     "name": "stdout",
     "output_type": "stream",
     "text": [
      "1\n",
      "2\n",
      "3\n",
      "4\n",
      "5\n",
      "6\n",
      "7\n",
      "8\n",
      "9\n",
      "10\n",
      "11\n",
      "12\n",
      "13\n",
      "14\n",
      "15\n",
      "16\n",
      "17\n",
      "18\n",
      "19\n",
      "20\n",
      "21\n",
      "22\n",
      "23\n",
      "24\n",
      "25\n",
      "26\n",
      "27\n",
      "28\n"
     ]
    }
   ],
   "source": [
    "morePages = True\n",
    "apartment_links=[]\n",
    "\n",
    "page = 1\n",
    "while morePages:\n",
    "    print(page)\n",
    "    apartmentlist_ul_xpath = '//*[@id=\"placardContainer\"]/ul'\n",
    "    apartmentlist_ul = driver.find_element_by_xpath(apartmentlist_ul_xpath)\n",
    "\n",
    "    apartmentlist_li = apartmentlist_ul.find_elements_by_class_name(\"placard\")\n",
    "    time.sleep(3)\n",
    "    getListingsOnPage(apartment_links, apartmentlist_li)\n",
    "\n",
    "    try:\n",
    "        next_btn_class = \"next\"\n",
    "        next_btn = driver.find_element_by_class_name(next_btn_class)\n",
    "        next_btn.click()\n",
    "        time.sleep(3)\n",
    "        page+=1\n",
    "    except:\n",
    "        morePages = False"
   ]
  },
  {
   "cell_type": "code",
   "execution_count": 10,
   "metadata": {},
   "outputs": [
    {
     "name": "stdout",
     "output_type": "stream",
     "text": [
      "752\n"
     ]
    }
   ],
   "source": [
    "print(len(apartment_links))\n",
    "import pandas as pd\n",
    "\n",
    "links = pd.Series(apartment_links)\n",
    "links.to_csv(area+'_links.csv')"
   ]
  },
  {
   "cell_type": "code",
   "execution_count": 7,
   "metadata": {},
   "outputs": [],
   "source": [
    "driver.close()"
   ]
  }
 ],
 "metadata": {
  "kernelspec": {
   "display_name": "realestate",
   "language": "python",
   "name": "realestate"
  },
  "language_info": {
   "codemirror_mode": {
    "name": "ipython",
    "version": 3
   },
   "file_extension": ".py",
   "mimetype": "text/x-python",
   "name": "python",
   "nbconvert_exporter": "python",
   "pygments_lexer": "ipython3",
   "version": "3.8.3"
  }
 },
 "nbformat": 4,
 "nbformat_minor": 4
}
